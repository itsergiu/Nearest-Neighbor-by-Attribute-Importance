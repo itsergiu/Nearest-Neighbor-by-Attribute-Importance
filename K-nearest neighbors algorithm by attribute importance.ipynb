{
 "cells": [
  {
   "cell_type": "markdown",
   "metadata": {},
   "source": [
    "K-nearest neighbors algorithm by attribute importance.\n",
    "\n",
    "The goal is to calculate nearest neighbor with decreasing importance of attribute from left to right.\n",
    "First attribute is the most important and last is the least important.\n",
    "To achieve this I developed following halving interval algorithm."
   ]
  },
  {
   "cell_type": "code",
   "execution_count": 1,
   "metadata": {
    "collapsed": true
   },
   "outputs": [],
   "source": [
    "import numpy as np"
   ]
  },
  {
   "cell_type": "code",
   "execution_count": 2,
   "metadata": {
    "collapsed": true
   },
   "outputs": [],
   "source": [
    "# Neighbors and Neighbor\n",
    "neighbors = np.array([[0, 1, 0, 1],\n",
    "                 [1, 2, 1, 2],\n",
    "                 [2, 1, 1, 1],\n",
    "                 [1, 0, 0, 0],\n",
    "                 [1, 2, 0, 2],\n",
    "                 [2, 2, 2, 2],\n",
    "                 [1, 0, 0, 1]])\n",
    "\n",
    "\n",
    "neighbor = np.array([[1, 1, 0, 1]])\n",
    "#neighbor = np.array([[2, 1, 1, 1]])\n",
    "\n",
    "attributes = len(neighbor[0])"
   ]
  },
  {
   "cell_type": "code",
   "execution_count": 3,
   "metadata": {
    "collapsed": true
   },
   "outputs": [],
   "source": [
    "# Define arrays for calculation\n",
    "half_more = 0.6 # Always more then half (0.5)\n",
    "rest_from_one = np.zeros([attributes])\n",
    "cum_half = np.zeros([attributes])\n",
    "half = np.zeros([attributes])"
   ]
  },
  {
   "cell_type": "code",
   "execution_count": 4,
   "metadata": {
    "collapsed": true
   },
   "outputs": [],
   "source": [
    "# Calculations for halving\n",
    "half[0] = half_more\n",
    "for i in range(1, attributes):\n",
    "    cum_half[i] = cum_half[i-1] + half[i-1]\n",
    "    rest_from_one[i] = 1 - cum_half[i]\n",
    "    half[i] = rest_from_one[i] * half_more\n",
    "\n",
    "half[i] = rest_from_one[i]"
   ]
  },
  {
   "cell_type": "code",
   "execution_count": 5,
   "metadata": {},
   "outputs": [
    {
     "data": {
      "text/plain": [
       "(array([0.   , 0.4  , 0.16 , 0.064]),\n",
       " array([0.   , 0.6  , 0.84 , 0.936]),\n",
       " array([0.6  , 0.24 , 0.096, 0.064]))"
      ]
     },
     "execution_count": 5,
     "metadata": {},
     "output_type": "execute_result"
    }
   ],
   "source": [
    "rest_from_one, cum_half, half"
   ]
  },
  {
   "cell_type": "code",
   "execution_count": 6,
   "metadata": {
    "collapsed": true
   },
   "outputs": [],
   "source": [
    "# Attributes distances\n",
    "distances = neighbors - neighbor"
   ]
  },
  {
   "cell_type": "code",
   "execution_count": 7,
   "metadata": {},
   "outputs": [
    {
     "data": {
      "text/plain": [
       "array([[1, 0, 0, 0],\n",
       "       [0, 1, 1, 1],\n",
       "       [1, 0, 1, 0],\n",
       "       [0, 1, 0, 1],\n",
       "       [0, 1, 0, 1],\n",
       "       [1, 1, 2, 1],\n",
       "       [0, 1, 0, 0]])"
      ]
     },
     "execution_count": 7,
     "metadata": {},
     "output_type": "execute_result"
    }
   ],
   "source": [
    "# Attributes absolute distances\n",
    "distances_abs = np.absolute(distances)\n",
    "distances_abs"
   ]
  },
  {
   "cell_type": "code",
   "execution_count": 8,
   "metadata": {},
   "outputs": [
    {
     "data": {
      "text/plain": [
       "array([0.6  , 0.4  , 0.696, 0.304, 0.304, 1.096, 0.24 ])"
      ]
     },
     "execution_count": 8,
     "metadata": {},
     "output_type": "execute_result"
    }
   ],
   "source": [
    "# Attribute distance\n",
    "distance = np.matmul(distances_abs, half)\n",
    "distance"
   ]
  },
  {
   "cell_type": "code",
   "execution_count": 9,
   "metadata": {},
   "outputs": [
    {
     "data": {
      "text/plain": [
       "array([5, 4, 6, 2, 3, 7, 1], dtype=int64)"
      ]
     },
     "execution_count": 9,
     "metadata": {},
     "output_type": "execute_result"
    }
   ],
   "source": [
    "# Ranking distance\n",
    "from scipy.stats import rankdata\n",
    "neighbors_rank = rankdata(distance, method='ordinal')\n",
    "neighbors_rank"
   ]
  },
  {
   "cell_type": "code",
   "execution_count": 10,
   "metadata": {},
   "outputs": [
    {
     "name": "stdout",
     "output_type": "stream",
     "text": [
      "neighbor                [[1 1 0 1]] \n",
      "\n",
      "rank 1 index 6 neighbors [1 0 0 1] distance 0.24\n",
      "rank 2 index 3 neighbors [1 0 0 0] distance 0.304\n",
      "rank 3 index 4 neighbors [1 2 0 2] distance 0.304\n",
      "rank 4 index 1 neighbors [1 2 1 2] distance 0.4\n",
      "rank 5 index 0 neighbors [0 1 0 1] distance 0.6\n",
      "rank 6 index 2 neighbors [2 1 1 1] distance 0.696\n",
      "rank 7 index 5 neighbors [2 2 2 2] distance 1.096\n"
     ]
    }
   ],
   "source": [
    "# Ranking neighbor to neighbors\n",
    "nearest_n = 7\n",
    "print('neighbor', ' '*14, neighbor,'\\n')\n",
    "for rank_element in range(nearest_n):\n",
    "    for ind, item in enumerate(neighbors_rank, start=0):\n",
    "        if item == rank_element+1: # Rank start = 1\n",
    "            print('rank', item, 'index',ind, 'neighbors', neighbors[ind], 'distance', np.round(distance[ind],3))\n"
   ]
  },
  {
   "cell_type": "code",
   "execution_count": 11,
   "metadata": {
    "collapsed": true
   },
   "outputs": [],
   "source": [
    "# Nearest Neighbors KDTree algorithm"
   ]
  },
  {
   "cell_type": "markdown",
   "metadata": {},
   "source": [
    "http://scikit-learn.org/stable/modules/neighbors.html\n",
    "\n",
    "http://scikit-learn.org/stable/modules/generated/sklearn.neighbors.KDTree.html\n"
   ]
  },
  {
   "cell_type": "code",
   "execution_count": 12,
   "metadata": {
    "collapsed": true
   },
   "outputs": [],
   "source": [
    "# KDTree\n",
    "import numpy as np\n",
    "from sklearn.neighbors import KDTree\n",
    "tree = KDTree(neighbors, leaf_size=2)              \n",
    "distance, ind = tree.query(neighbor, k=7)"
   ]
  },
  {
   "cell_type": "code",
   "execution_count": 13,
   "metadata": {},
   "outputs": [
    {
     "name": "stdout",
     "output_type": "stream",
     "text": [
      "neighbor                [[1 1 0 1]] \n",
      "\n",
      "rank 1 index 0 neighbors [0 1 0 1] distanceance 1.0\n",
      "rank 2 index 6 neighbors [1 0 0 1] distanceance 2.646\n",
      "rank 3 index 3 neighbors [1 0 0 0] distanceance 1.414\n",
      "rank 4 index 4 neighbors [1 2 0 2] distanceance 1.414\n",
      "rank 5 index 2 neighbors [2 1 1 1] distanceance 1.414\n",
      "rank 6 index 1 neighbors [1 2 1 2] distanceance 1.0\n",
      "rank 7 index 5 neighbors [2 2 2 2] distanceance 1.732\n"
     ]
    }
   ],
   "source": [
    "# Ranking neighbor to neighbors with KDTree\n",
    "print('neighbor', ' '*14, neighbor,'\\n')\n",
    "for i in range(len(ind[0])):\n",
    "    print('rank', i+1, 'index', ind[0,i], 'neighbors', neighbors[ind[0,i]],'distanceance', np.round(distance[0,ind[0,i]],3))\n"
   ]
  },
  {
   "cell_type": "code",
   "execution_count": 14,
   "metadata": {},
   "outputs": [
    {
     "data": {
      "text/plain": [
       "'\\n# You can observ the ranking differences:\\n\\n# neighbor                [[1 1 0 1]] \\n\\n# Attribute decreasing importance algorithm\\n# rank 1 index 6 neighbors [1 0 0 1] distance 0.24\\n\\n# KDTree algorithm\\n# rank 1 index 0 neighbors [0 1 0 1] distanceance 1.0\\n'"
      ]
     },
     "execution_count": 14,
     "metadata": {},
     "output_type": "execute_result"
    }
   ],
   "source": [
    "'''\n",
    "# You can observ the ranking differences:\n",
    "\n",
    "# neighbor                [[1 1 0 1]] \n",
    "\n",
    "# Attribute decreasing importance algorithm\n",
    "# rank 1 index 6 neighbors [1 0 0 1] distance 0.24\n",
    "\n",
    "# KDTree algorithm\n",
    "# rank 1 index 0 neighbors [0 1 0 1] distanceance 1.0\n",
    "'''"
   ]
  },
  {
   "cell_type": "code",
   "execution_count": 15,
   "metadata": {
    "collapsed": true
   },
   "outputs": [],
   "source": [
    "#"
   ]
  },
  {
   "cell_type": "markdown",
   "metadata": {},
   "source": [
    "I want to know what solutions are provided within python libraries or tensorflow libraries for finding nearest neighbor by attribute importance."
   ]
  },
  {
   "cell_type": "code",
   "execution_count": null,
   "metadata": {
    "collapsed": true
   },
   "outputs": [],
   "source": []
  }
 ],
 "metadata": {
  "kernelspec": {
   "display_name": "Python 3",
   "language": "python",
   "name": "python3"
  },
  "language_info": {
   "codemirror_mode": {
    "name": "ipython",
    "version": 3
   },
   "file_extension": ".py",
   "mimetype": "text/x-python",
   "name": "python",
   "nbconvert_exporter": "python",
   "pygments_lexer": "ipython3",
   "version": "3.6.1"
  }
 },
 "nbformat": 4,
 "nbformat_minor": 2
}
